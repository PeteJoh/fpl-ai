{
  "cells": [
    {
      "cell_type": "markdown",
      "metadata": {
        "id": "view-in-github",
        "colab_type": "text"
      },
      "source": [
        "<a href=\"https://colab.research.google.com/github/PeteJoh/fpl-ai/blob/master/Minutes_Predictor.ipynb\" target=\"_parent\"><img src=\"https://colab.research.google.com/assets/colab-badge.svg\" alt=\"Open In Colab\"/></a>"
      ]
    },
    {
      "cell_type": "code",
      "source": [
        "# MAKE SURE TO CHANGE GW TO NEXT GAME TO BE PLAYED\n",
        "# SAVE TO GITHUB WHEN FINISHED"
      ],
      "metadata": {
        "id": "peIo9I5qKJPO"
      },
      "id": "peIo9I5qKJPO",
      "execution_count": null,
      "outputs": []
    },
    {
      "cell_type": "code",
      "execution_count": 1,
      "id": "1e6d5018-f9c6-4b41-8223-99aa08cde3a7",
      "metadata": {
        "colab": {
          "base_uri": "https://localhost:8080/"
        },
        "id": "1e6d5018-f9c6-4b41-8223-99aa08cde3a7",
        "outputId": "7137a609-7cb0-4e4b-a403-7ea54850b457"
      },
      "outputs": [
        {
          "output_type": "stream",
          "name": "stdout",
          "text": [
            "Mounted at /content/gdrive\n"
          ]
        }
      ],
      "source": [
        "#------------------------------------------------------\n",
        "from google.colab import drive\n",
        "drive.mount('/content/gdrive')"
      ]
    },
    {
      "cell_type": "code",
      "execution_count": 2,
      "id": "f2350d66-b02c-45ba-b5d8-15d6dc1921fe",
      "metadata": {
        "id": "f2350d66-b02c-45ba-b5d8-15d6dc1921fe"
      },
      "outputs": [],
      "source": [
        "forward_statistics =['value', 'was_home', 'last_season_position', 'percent_value',\n",
        "       'position rank', 'goals_scored_ex', 'assists_ex', 'total_points_ex',\n",
        "       'minutes_ex', 'goals_conceded_ex', 'creativity_ex', 'influence_ex',\n",
        "       'threat_ex', 'bonus_ex', 'bps_ex', 'ict_index_ex', 'now_cost_ex', 'GW', 'opponent_last_season_position',\n",
        "        'mean assists 3','mean bonus 3', 'mean bps 3','mean creativity 3', 'mean goals_scored 3',\n",
        "       'mean ict_index 3', 'mean influence 3', 'mean minutes 3', 'mean penalties_missed 3',  'mean threat 3',\n",
        "       'mean total_points 3','mean value 3', 'mean match_result 3', 'std bps 3', 'std creativity 3',\n",
        "       'std ict_index 3', 'std influence 3', 'std minutes 3',\n",
        "       'std threat 3', 'std total_points 3', 'std value 3']\n",
        "\n",
        "leak_columns = [\n",
        "    \"name\",\n",
        "    \"team\",\n",
        "]  # columns that shouldnt be used in training for fear of data leakage\n",
        "\n",
        "\n",
        "dropped_columns = [\n",
        "    \"season\",\n",
        "    \"opponent\",\n",
        "    \"match_result\",\n",
        "   # \"position\",\n",
        "    \"assists\",\n",
        "    \"penalties_missed\",\n",
        "    \"bonus\",\n",
        "    \"bps\",\n",
        "    \"clean_sheets\",\n",
        "    \"creativity\",\n",
        "    \"goals_conceded\",\n",
        "    \"goals_scored\",\n",
        "    \"ict_index\",\n",
        "    \"influence\",\n",
        "    \"own_goals\",\n",
        "    \"penalties_saved\",\n",
        "    \"red_cards\",\n",
        "    \"saves\",\n",
        "    \"selected\",\n",
        "    \"threat\",\n",
        "    \"transfers_balance\",\n",
        "    \"transfers_in\",\n",
        "    \"transfers_out\",\n",
        "    \"yellow_cards\",\n",
        "    \"team Goal scored\",\n",
        "    \"team Goal conceded\"\n",
        "]  # \"value\",\n",
        "\n",
        "midfielder_statistics =['value', 'was_home', 'last_season_position', 'percent_value',\n",
        "       'position rank', 'goals_scored_ex', 'assists_ex', 'total_points_ex',\n",
        "       'minutes_ex', 'goals_conceded_ex', 'creativity_ex', 'influence_ex',\n",
        "       'threat_ex', 'bonus_ex', 'bps_ex', 'ict_index_ex', 'now_cost_ex', 'GW', 'opponent_last_season_position',\n",
        "        'mean assists 3','mean bonus 3', 'mean bps 3','mean creativity 3', 'mean goals_scored 3',\n",
        "       'mean ict_index 3', 'mean influence 3', 'mean minutes 3', 'mean penalties_missed 3',  'mean threat 3',\n",
        "       'mean total_points 3','mean value 3', 'mean match_result 3', 'std bps 3', 'std creativity 3',\n",
        "       'std ict_index 3', 'std influence 3', 'std minutes 3',\n",
        "       'std threat 3', 'std total_points 3', 'std value 3']\n",
        "\n",
        "goalkeeper_statistics = ['value', 'was_home', 'last_season_position', 'percent_value',\n",
        "       'position rank', 'total_points_ex', 'minutes_ex', 'goals_conceded_ex',\n",
        "       'bonus_ex', 'bps_ex', 'ict_index_ex', 'clean_sheets_ex',\n",
        "       'red_cards_ex', 'now_cost_ex', 'GW', 'opponent_last_season_position',\n",
        "       'mean bonus 3', 'mean bps 3', 'mean clean_sheets 3', 'mean goals_conceded 3',\n",
        "       'mean ict_index 3',  'mean minutes 3',\n",
        "       'mean own_goals 3',  'mean penalties_saved 3',\n",
        "        'mean saves 3',  'mean threat 3',\n",
        "       'mean total_points 3',\n",
        "       'mean value 3', 'mean match_result 3', 'std bps 3',\n",
        "       'std ict_index 3', 'std influence 3', 'std minutes 3',\n",
        "       'std threat 3', 'std total_points 3', 'std value 3']\n",
        "\n",
        "statistics =['value', 'position','was_home', 'last_season_position', 'percent_value',\n",
        "       'position rank', 'goals_scored_ex', 'assists_ex', 'total_points_ex',\n",
        "       'minutes_ex', 'goals_conceded_ex', 'creativity_ex', 'influence_ex',\n",
        "       'threat_ex', 'bonus_ex', 'bps_ex', 'ict_index_ex', 'clean_sheets_ex',\n",
        "       'yellow_cards_ex','now_cost_ex', 'GW', 'opponent_last_season_position', 'mean assists 3',\n",
        "       'mean bonus 3', 'mean bps 3', 'mean clean_sheets 3',\n",
        "       'mean creativity 3', 'mean goals_conceded 3', 'mean goals_scored 3',\n",
        "       'mean ict_index 3', 'mean influence 3', 'mean minutes 3',\n",
        "       'mean own_goals 3',\n",
        "       'mean red_cards 3',  'mean threat 3','mean total_points 3',\n",
        "       'mean value 3', 'mean match_result 3', 'std bps 3', 'std creativity 3',\n",
        "       'std ict_index 3', 'std influence 3', 'std minutes 3',\n",
        "       'std threat 3', 'std total_points 3', 'std value 3','mean saves 3','mean assists all',\n",
        "       'mean bonus all', 'mean bps all', 'mean clean_sheets all',\n",
        "       'mean creativity all', 'mean goals_conceded all', 'mean goals_scored all',\n",
        "       'mean ict_index all', 'mean influence all', 'mean minutes all',\n",
        "       'mean own_goals all',\n",
        "       'mean red_cards all',  'mean threat all','mean total_points all',\n",
        "       'mean value all', 'mean match_result all',\n",
        "       'mean team Goal scored 3','mean team Goal scored all','mean team Goal conceded 3','mean team Goal conceded all',\"ratio_goal_scored all\",\"ratio_goal_scored 3\",\n",
        "       'opp mean team Goal scored 3','opp mean team Goal conceded 3','opp mean team Goal scored all','opp mean team Goal conceded all',\"opp mean match_result all\"]\n",
        "\n",
        "\n",
        "date_cols=[\"day_of week\",\"month\",\"hour\",\"week\"]"
      ]
    },
    {
      "cell_type": "code",
      "execution_count": 3,
      "id": "a2606c9a-6fb3-421f-9b3a-b8d1703d7e45",
      "metadata": {
        "id": "a2606c9a-6fb3-421f-9b3a-b8d1703d7e45"
      },
      "outputs": [],
      "source": [
        "def convert_minutes(val):\n",
        "    \"\"\"CONVERTS MINUTES TO A CATEGORICAL OUTPUT\"\"\"\n",
        "    if val > 10:\n",
        "        return 1\n",
        "    else:\n",
        "        return 0"
      ]
    },
    {
      "cell_type": "code",
      "execution_count": 4,
      "id": "8dbc4464-e76b-400b-8404-6b68e2770f41",
      "metadata": {
        "id": "8dbc4464-e76b-400b-8404-6b68e2770f41",
        "outputId": "007d4062-47f6-4b22-dcfd-0c77ef02e316",
        "colab": {
          "base_uri": "https://localhost:8080/"
        }
      },
      "outputs": [
        {
          "output_type": "stream",
          "name": "stdout",
          "text": [
            "Collecting catboost\n",
            "  Downloading catboost-1.2.7-cp310-cp310-manylinux2014_x86_64.whl.metadata (1.2 kB)\n",
            "Requirement already satisfied: graphviz in /usr/local/lib/python3.10/dist-packages (from catboost) (0.20.3)\n",
            "Requirement already satisfied: matplotlib in /usr/local/lib/python3.10/dist-packages (from catboost) (3.8.0)\n",
            "Requirement already satisfied: numpy<2.0,>=1.16.0 in /usr/local/lib/python3.10/dist-packages (from catboost) (1.26.4)\n",
            "Requirement already satisfied: pandas>=0.24 in /usr/local/lib/python3.10/dist-packages (from catboost) (2.2.2)\n",
            "Requirement already satisfied: scipy in /usr/local/lib/python3.10/dist-packages (from catboost) (1.13.1)\n",
            "Requirement already satisfied: plotly in /usr/local/lib/python3.10/dist-packages (from catboost) (5.24.1)\n",
            "Requirement already satisfied: six in /usr/local/lib/python3.10/dist-packages (from catboost) (1.16.0)\n",
            "Requirement already satisfied: python-dateutil>=2.8.2 in /usr/local/lib/python3.10/dist-packages (from pandas>=0.24->catboost) (2.8.2)\n",
            "Requirement already satisfied: pytz>=2020.1 in /usr/local/lib/python3.10/dist-packages (from pandas>=0.24->catboost) (2024.2)\n",
            "Requirement already satisfied: tzdata>=2022.7 in /usr/local/lib/python3.10/dist-packages (from pandas>=0.24->catboost) (2024.2)\n",
            "Requirement already satisfied: contourpy>=1.0.1 in /usr/local/lib/python3.10/dist-packages (from matplotlib->catboost) (1.3.1)\n",
            "Requirement already satisfied: cycler>=0.10 in /usr/local/lib/python3.10/dist-packages (from matplotlib->catboost) (0.12.1)\n",
            "Requirement already satisfied: fonttools>=4.22.0 in /usr/local/lib/python3.10/dist-packages (from matplotlib->catboost) (4.54.1)\n",
            "Requirement already satisfied: kiwisolver>=1.0.1 in /usr/local/lib/python3.10/dist-packages (from matplotlib->catboost) (1.4.7)\n",
            "Requirement already satisfied: packaging>=20.0 in /usr/local/lib/python3.10/dist-packages (from matplotlib->catboost) (24.2)\n",
            "Requirement already satisfied: pillow>=6.2.0 in /usr/local/lib/python3.10/dist-packages (from matplotlib->catboost) (11.0.0)\n",
            "Requirement already satisfied: pyparsing>=2.3.1 in /usr/local/lib/python3.10/dist-packages (from matplotlib->catboost) (3.2.0)\n",
            "Requirement already satisfied: tenacity>=6.2.0 in /usr/local/lib/python3.10/dist-packages (from plotly->catboost) (9.0.0)\n",
            "Downloading catboost-1.2.7-cp310-cp310-manylinux2014_x86_64.whl (98.7 MB)\n",
            "\u001b[2K   \u001b[90m━━━━━━━━━━━━━━━━━━━━━━━━━━━━━━━━━━━━━━━━\u001b[0m \u001b[32m98.7/98.7 MB\u001b[0m \u001b[31m7.7 MB/s\u001b[0m eta \u001b[36m0:00:00\u001b[0m\n",
            "\u001b[?25hInstalling collected packages: catboost\n",
            "Successfully installed catboost-1.2.7\n"
          ]
        }
      ],
      "source": [
        "pip install catboost"
      ]
    },
    {
      "cell_type": "code",
      "execution_count": 5,
      "id": "aadf5193-672b-4feb-8a8d-54f0558166df",
      "metadata": {
        "id": "aadf5193-672b-4feb-8a8d-54f0558166df"
      },
      "outputs": [],
      "source": [
        "from hyperopt import tpe,hp,fmin,STATUS_OK,Trials\n",
        "from hyperopt.pyll.base import scope"
      ]
    },
    {
      "cell_type": "code",
      "execution_count": 6,
      "id": "09c45d39-c1a2-4aec-a762-4dceddf352fa",
      "metadata": {
        "id": "09c45d39-c1a2-4aec-a762-4dceddf352fa"
      },
      "outputs": [],
      "source": [
        "import pandas as pd\n",
        "import numpy as np\n",
        "import warnings\n",
        "import os\n",
        "\n",
        "\n",
        "warnings.filterwarnings(\"ignore\")\n",
        "from sklearn.model_selection import train_test_split\n",
        "from sklearn.pipeline import Pipeline\n",
        "from sklearn.ensemble import (\n",
        "    RandomForestClassifier,\n",
        "    RandomForestRegressor,\n",
        "    GradientBoostingRegressor,\n",
        ")\n",
        "from sklearn.preprocessing import StandardScaler, RobustScaler, MinMaxScaler\n",
        "from sklearn.impute import SimpleImputer\n",
        "from sklearn.linear_model import LinearRegression, Lasso, Ridge\n",
        "from sklearn.metrics import (\n",
        "    mean_squared_error,\n",
        "    mean_absolute_error,\n",
        "    confusion_matrix,\n",
        "    accuracy_score,\n",
        "    f1_score,\n",
        ")\n",
        "from lightgbm import LGBMRegressor, LGBMClassifier\n",
        "from catboost import CatBoostClassifier, CatBoostRegressor\n",
        "from sklearn.model_selection import StratifiedKFold,KFold\n",
        "\n"
      ]
    },
    {
      "cell_type": "code",
      "execution_count": 7,
      "id": "19daa975-1ac3-4031-8b60-0d9911740d81",
      "metadata": {
        "id": "19daa975-1ac3-4031-8b60-0d9911740d81"
      },
      "outputs": [],
      "source": [
        "# ************** CHANGE GW TO NEXT GW TO BE PLAYED ***************************\n",
        "gameweek=12\n",
        "# ****************************************************************************"
      ]
    },
    {
      "cell_type": "code",
      "execution_count": 8,
      "id": "74d8c428-39d9-4c89-b3e3-4882516d1994",
      "metadata": {
        "id": "74d8c428-39d9-4c89-b3e3-4882516d1994"
      },
      "outputs": [],
      "source": [
        "# RELOAD THIS DATA FOR EACH MODEL\n",
        "\n",
        "train = pd.read_csv(\"/content/gdrive/MyDrive/fplpredict/cleaned_dataset/cleaned_previous_seasons.csv\",index_col=0)#/content/drive/MyDrive/Fplpredict /cleaned_previous_seasons.csv\", index_col=0)\n",
        "old_gameweek_cleaned = []\n",
        "for i in range(1, gameweek):\n",
        "    old_gameweek_cleaned.append(pd.read_csv(f\"/content/gdrive/MyDrive/fplpredict/cleaned_dataset/2024-25/GW{i}.csv\"))\n",
        "old_gameweeks = pd.concat(old_gameweek_cleaned)[train.columns]\n",
        "train = pd.concat([train, old_gameweeks])\n",
        "\n",
        "# data for current gameweek we want to predict on\n",
        "test = pd.read_csv(f\"/content/gdrive/MyDrive/fplpredict/cleaned_dataset/2024-25/GW{gameweek}.csv\", index_col=0)"
      ]
    },
    {
      "cell_type": "code",
      "execution_count": 9,
      "id": "7b5df107-8257-4581-83d9-e7e95611d200",
      "metadata": {
        "id": "7b5df107-8257-4581-83d9-e7e95611d200",
        "outputId": "593cd03e-9a7d-4695-f769-efafc163ecd9",
        "colab": {
          "base_uri": "https://localhost:8080/"
        }
      },
      "outputs": [
        {
          "output_type": "stream",
          "name": "stdout",
          "text": [
            "Folder /content/gdrive/MyDrive/fplpredict/predicted_dataset/GW12 created!\n"
          ]
        }
      ],
      "source": [
        "#CREATE GAMEWEEK PREDICTIONS FOLDER\n",
        "path = f\"/content/gdrive/MyDrive/fplpredict/predicted_dataset/GW{gameweek}\"\n",
        "\n",
        "# create new single directory\n",
        "# check whether directory already exists\n",
        "if not os.path.exists(path):\n",
        "    os.mkdir(path)\n",
        "    print(\"Folder %s created!\" % path)\n",
        "else:\n",
        "    print(\"Folder %s already exists\" % path)\n",
        "\n",
        "# data from current season but previous gameweeks"
      ]
    },
    {
      "cell_type": "code",
      "execution_count": 10,
      "id": "d949e85a-c632-4f47-b813-7047f6af1c0d",
      "metadata": {
        "id": "d949e85a-c632-4f47-b813-7047f6af1c0d",
        "outputId": "a11ef318-7d5f-4861-a570-739ed6dd34a3",
        "colab": {
          "base_uri": "https://localhost:8080/",
          "height": 272
        }
      },
      "outputs": [
        {
          "output_type": "execute_result",
          "data": {
            "text/plain": [
              "position\n",
              "MID    53123\n",
              "DEF    42615\n",
              "FWD    15866\n",
              "GK     13166\n",
              "GKP      899\n",
              "Name: count, dtype: int64"
            ],
            "text/html": [
              "<div>\n",
              "<style scoped>\n",
              "    .dataframe tbody tr th:only-of-type {\n",
              "        vertical-align: middle;\n",
              "    }\n",
              "\n",
              "    .dataframe tbody tr th {\n",
              "        vertical-align: top;\n",
              "    }\n",
              "\n",
              "    .dataframe thead th {\n",
              "        text-align: right;\n",
              "    }\n",
              "</style>\n",
              "<table border=\"1\" class=\"dataframe\">\n",
              "  <thead>\n",
              "    <tr style=\"text-align: right;\">\n",
              "      <th></th>\n",
              "      <th>count</th>\n",
              "    </tr>\n",
              "    <tr>\n",
              "      <th>position</th>\n",
              "      <th></th>\n",
              "    </tr>\n",
              "  </thead>\n",
              "  <tbody>\n",
              "    <tr>\n",
              "      <th>MID</th>\n",
              "      <td>53123</td>\n",
              "    </tr>\n",
              "    <tr>\n",
              "      <th>DEF</th>\n",
              "      <td>42615</td>\n",
              "    </tr>\n",
              "    <tr>\n",
              "      <th>FWD</th>\n",
              "      <td>15866</td>\n",
              "    </tr>\n",
              "    <tr>\n",
              "      <th>GK</th>\n",
              "      <td>13166</td>\n",
              "    </tr>\n",
              "    <tr>\n",
              "      <th>GKP</th>\n",
              "      <td>899</td>\n",
              "    </tr>\n",
              "  </tbody>\n",
              "</table>\n",
              "</div><br><label><b>dtype:</b> int64</label>"
            ]
          },
          "metadata": {},
          "execution_count": 10
        }
      ],
      "source": [
        "train[\"position\"].value_counts()"
      ]
    },
    {
      "cell_type": "code",
      "execution_count": 11,
      "id": "89cea07d-d8f0-45c4-9181-b625fa777903",
      "metadata": {
        "id": "89cea07d-d8f0-45c4-9181-b625fa777903"
      },
      "outputs": [],
      "source": [
        "train[\"position\"]=train[\"position\"].replace({\"GKP\":\"GK\" })"
      ]
    },
    {
      "cell_type": "code",
      "execution_count": 12,
      "id": "f9c961fa-75d4-4e6c-a125-b0f3bf25196a",
      "metadata": {
        "id": "f9c961fa-75d4-4e6c-a125-b0f3bf25196a"
      },
      "outputs": [],
      "source": [
        "# MINUTES PREDICTOR STARTS HERE************************************************\n",
        "# Ensure both DataFrames have the same columns before alignment\n",
        "# Create the date-related columns in 'test' first\n",
        "import pandas as pd\n",
        "from sklearn.model_selection import train_test_split\n",
        "\n",
        "test[\"index\"] = test[\"name\"] + test[\"kickoff_time\"].astype(\"str\")\n",
        "test = test.set_index(\"index\")\n",
        "test[\"date\"] = pd.to_datetime(test[\"kickoff_time\"], format='ISO8601', errors='coerce')\n",
        "test[\"day_of week\"] = test[\"date\"].dt.day_name()  # Added parentheses to call the function\n",
        "test[\"month\"] = test[\"date\"].dt.month\n",
        "test[\"hour\"] = test[\"date\"].dt.hour\n",
        "test[\"week\"] = test[\"date\"].dt.isocalendar().week\n",
        "test.drop([\"kickoff_time\", \"date\"], axis=1, inplace=True)\n",
        "\n",
        "# Now process 'train' DataFrame\n",
        "# Create 'index' column *before* dropping 'kickoff_time'\n",
        "train[\"index\"] = train[\"name\"] + train[\"kickoff_time\"].astype(\"str\")\n",
        "train.drop_duplicates(\"index\", keep=\"last\", inplace=True)\n",
        "train = train.set_index(\"index\")\n",
        "\n",
        "# Now you can create date features and then drop 'kickoff_time'\n",
        "train[\"date\"] = pd.to_datetime(train[\"kickoff_time\"], format='ISO8601', errors='coerce')\n",
        "train[\"day_of week\"] = train[\"date\"].dt.day_name()  # Added parentheses to call the function\n",
        "train[\"month\"] = train[\"date\"].dt.month\n",
        "train[\"hour\"] = train[\"date\"].dt.hour\n",
        "train[\"week\"] = train[\"date\"].dt.isocalendar().week\n",
        "train.drop([\"kickoff_time\", \"date\"], axis=1, inplace=True) # Now safe to drop\n",
        "\n",
        "\n",
        "#Keep only common columns in both dataframes\n",
        "common_cols = list(set(train.columns) & set(test.columns))\n",
        "\n",
        "train = train[common_cols]\n",
        "test = test[common_cols]\n",
        "\n",
        "\n",
        "\n",
        "train_copy = train.copy()\n",
        "test_copy = test.copy()\n",
        "\n",
        "\n",
        "train[\"minutes\"] = train[\"minutes\"].apply(convert_minutes)\n",
        "\n",
        "target = train[[\"minutes\", \"GW\", \"position\"]]\n",
        "train.drop([\"total_points\", \"minutes\"], axis=1, inplace=True)\n",
        "test.drop([\"total_points\", \"minutes\"], axis=1, inplace=True)\n",
        "train.drop(dropped_columns, axis=1, inplace=True)\n",
        "test.drop(dropped_columns, axis=1, inplace=True)\n",
        "\n",
        "\n",
        "# Convert categorical columns to numerical\n",
        "for col in train.columns:\n",
        "    if train[col].dtype == \"object\":\n",
        "        if col not in [\"team\", \"name\", \"position\"]:\n",
        "            train[col] = pd.factorize(train[col])[0]\n",
        "            test[col] = pd.factorize(test[col])[0]\n",
        "\n",
        "train[\"was_home\"] = train[\"was_home\"].replace({True: 0, False: 1})\n",
        "test[\"was_home\"] = test[\"was_home\"].replace({True: 0, False: 1})\n",
        "\n",
        "train = train[statistics + leak_columns + date_cols]\n",
        "test = test[statistics + leak_columns + date_cols]\n",
        "\n",
        "x, val, y, y_val = train_test_split(\n",
        "    train.drop(leak_columns, axis=1),\n",
        "    target[\"minutes\"],\n",
        "    test_size=0.1,\n",
        "    random_state=0,\n",
        ")"
      ]
    },
    {
      "cell_type": "code",
      "execution_count": 13,
      "id": "8977ff7f-8216-4a71-b51a-0f87a8e72a88",
      "metadata": {
        "id": "8977ff7f-8216-4a71-b51a-0f87a8e72a88"
      },
      "outputs": [],
      "source": [
        "params={'colsample_bylevel': 0.8070621518153563, 'learning_rate': 0.04765984972709895, 'max_depth': 7, 'reg_lambda': 5, 'scale_pos_weight': 2.5,'subsample': 0.6794390204583894}\n",
        "model=CatBoostClassifier(**params,cat_features=[\"position\"],random_state=0,early_stopping_rounds=500,use_best_model=True,verbose=500,n_estimators=10000)"
      ]
    },
    {
      "cell_type": "code",
      "execution_count": 14,
      "id": "cda8cdf1-e141-4937-a459-2cb60dbe0edb",
      "metadata": {
        "id": "cda8cdf1-e141-4937-a459-2cb60dbe0edb",
        "outputId": "87afc70d-c916-4469-85db-9331d419a091",
        "colab": {
          "base_uri": "https://localhost:8080/"
        }
      },
      "outputs": [
        {
          "output_type": "stream",
          "name": "stdout",
          "text": [
            "0:\tlearn: 0.6540810\ttest: 0.6541696\tbest: 0.6541696 (0)\ttotal: 421ms\tremaining: 1h 10m 5s\n",
            "500:\tlearn: 0.2968429\ttest: 0.3208058\tbest: 0.3207861 (495)\ttotal: 1m 23s\tremaining: 26m 30s\n",
            "1000:\tlearn: 0.2731598\ttest: 0.3205606\tbest: 0.3204785 (905)\ttotal: 2m 48s\tremaining: 25m 13s\n",
            "1500:\tlearn: 0.2535459\ttest: 0.3211767\tbest: 0.3202903 (1134)\ttotal: 4m 11s\tremaining: 23m 42s\n",
            "Stopped by overfitting detector  (500 iterations wait)\n",
            "\n",
            "bestTest = 0.3202903271\n",
            "bestIteration = 1134\n",
            "\n",
            "Shrink model to first 1135 iterations.\n"
          ]
        },
        {
          "output_type": "execute_result",
          "data": {
            "text/plain": [
              "<catboost.core.CatBoostClassifier at 0x78611c6006d0>"
            ]
          },
          "metadata": {},
          "execution_count": 14
        }
      ],
      "source": [
        "model.fit(x, y,eval_set=[(val,y_val)])"
      ]
    },
    {
      "cell_type": "code",
      "execution_count": 15,
      "id": "4a2d8c68-26fe-4476-ae35-3bb62c574a58",
      "metadata": {
        "id": "4a2d8c68-26fe-4476-ae35-3bb62c574a58",
        "outputId": "664f13c5-7947-4f8a-d7f3-6b622dbf10ce",
        "colab": {
          "base_uri": "https://localhost:8080/"
        }
      },
      "outputs": [
        {
          "output_type": "stream",
          "name": "stdout",
          "text": [
            "[[5525  376]\n",
            " [1410 4004]]\n",
            "starting Accuracy score 0.8421564295183385\n",
            " starting f1 score: 0.8176434551766387\n"
          ]
        }
      ],
      "source": [
        "print(confusion_matrix(model.predict(val), y_val))\n",
        "print(\n",
        "    f\"starting Accuracy score {accuracy_score(model.predict(val), y_val)}\"\n",
        ")\n",
        "\n",
        "print(\n",
        "    f\" starting f1 score: {f1_score(model.predict(val), y_val)}\"\n",
        ")\n",
        "\n",
        "feature_importance = pd.DataFrame(\n",
        "    {\"column\": x.columns, \"imp\": model.feature_importances_}\n",
        ").sort_values(\n",
        "    \"imp\", ascending=False\n",
        ")"
      ]
    },
    {
      "cell_type": "code",
      "execution_count": null,
      "id": "d1b321e1-572b-4f0c-b695-39187cc9e20b",
      "metadata": {
        "id": "d1b321e1-572b-4f0c-b695-39187cc9e20b"
      },
      "outputs": [],
      "source": [
        "feature_importance.head(50)"
      ]
    },
    {
      "cell_type": "code",
      "execution_count": null,
      "id": "b5d7e328-df71-40b8-872f-205026c36af4",
      "metadata": {
        "id": "b5d7e328-df71-40b8-872f-205026c36af4"
      },
      "outputs": [],
      "source": [
        "feature_importance.tail(20)"
      ]
    },
    {
      "cell_type": "code",
      "execution_count": 18,
      "id": "16ed3969-47ea-49c0-9663-dce8f785d5ed",
      "metadata": {
        "id": "16ed3969-47ea-49c0-9663-dce8f785d5ed",
        "outputId": "25ce0749-31a8-4c15-e0d8-ff7a70656506",
        "colab": {
          "base_uri": "https://localhost:8080/",
          "height": 489
        }
      },
      "outputs": [
        {
          "output_type": "execute_result",
          "data": {
            "text/plain": [
              "index\n",
              "James Tarkowski2022-11-05 17:30:00+00:00    1\n",
              "Matej Vydra2021-01-27 18:00:00+00:00        1\n",
              "Scott McTominay2022-02-12 12:30:00+00:00    1\n",
              "Noha Lemina2024-02-25 13:30:00+00:00        0\n",
              "Jed Steer2021-04-25 18:00:00+00:00          0\n",
              "                                           ..\n",
              "Tyler Onyango2022-05-11 18:45:00+00:00      0\n",
              "Mbwana Samatta2021-03-03 18:00:00+00:00     0\n",
              "Mathew Ryan2022-04-02 14:00:00+00:00        0\n",
              "Ryan Yates2024-04-02 18:30:00+00:00         1\n",
              "Tariq Lamptey2024-01-30 19:45:00+00:00      1\n",
              "Name: minutes, Length: 11315, dtype: int64"
            ],
            "text/html": [
              "<div>\n",
              "<style scoped>\n",
              "    .dataframe tbody tr th:only-of-type {\n",
              "        vertical-align: middle;\n",
              "    }\n",
              "\n",
              "    .dataframe tbody tr th {\n",
              "        vertical-align: top;\n",
              "    }\n",
              "\n",
              "    .dataframe thead th {\n",
              "        text-align: right;\n",
              "    }\n",
              "</style>\n",
              "<table border=\"1\" class=\"dataframe\">\n",
              "  <thead>\n",
              "    <tr style=\"text-align: right;\">\n",
              "      <th></th>\n",
              "      <th>minutes</th>\n",
              "    </tr>\n",
              "    <tr>\n",
              "      <th>index</th>\n",
              "      <th></th>\n",
              "    </tr>\n",
              "  </thead>\n",
              "  <tbody>\n",
              "    <tr>\n",
              "      <th>James Tarkowski2022-11-05 17:30:00+00:00</th>\n",
              "      <td>1</td>\n",
              "    </tr>\n",
              "    <tr>\n",
              "      <th>Matej Vydra2021-01-27 18:00:00+00:00</th>\n",
              "      <td>1</td>\n",
              "    </tr>\n",
              "    <tr>\n",
              "      <th>Scott McTominay2022-02-12 12:30:00+00:00</th>\n",
              "      <td>1</td>\n",
              "    </tr>\n",
              "    <tr>\n",
              "      <th>Noha Lemina2024-02-25 13:30:00+00:00</th>\n",
              "      <td>0</td>\n",
              "    </tr>\n",
              "    <tr>\n",
              "      <th>Jed Steer2021-04-25 18:00:00+00:00</th>\n",
              "      <td>0</td>\n",
              "    </tr>\n",
              "    <tr>\n",
              "      <th>...</th>\n",
              "      <td>...</td>\n",
              "    </tr>\n",
              "    <tr>\n",
              "      <th>Tyler Onyango2022-05-11 18:45:00+00:00</th>\n",
              "      <td>0</td>\n",
              "    </tr>\n",
              "    <tr>\n",
              "      <th>Mbwana Samatta2021-03-03 18:00:00+00:00</th>\n",
              "      <td>0</td>\n",
              "    </tr>\n",
              "    <tr>\n",
              "      <th>Mathew Ryan2022-04-02 14:00:00+00:00</th>\n",
              "      <td>0</td>\n",
              "    </tr>\n",
              "    <tr>\n",
              "      <th>Ryan Yates2024-04-02 18:30:00+00:00</th>\n",
              "      <td>1</td>\n",
              "    </tr>\n",
              "    <tr>\n",
              "      <th>Tariq Lamptey2024-01-30 19:45:00+00:00</th>\n",
              "      <td>1</td>\n",
              "    </tr>\n",
              "  </tbody>\n",
              "</table>\n",
              "<p>11315 rows × 1 columns</p>\n",
              "</div><br><label><b>dtype:</b> int64</label>"
            ]
          },
          "metadata": {},
          "execution_count": 18
        }
      ],
      "source": [
        "y_val"
      ]
    },
    {
      "cell_type": "code",
      "execution_count": 19,
      "id": "d11c26e8-3a94-4d9d-a9f1-ff9a35c03b63",
      "metadata": {
        "id": "d11c26e8-3a94-4d9d-a9f1-ff9a35c03b63"
      },
      "outputs": [],
      "source": [
        "test_copy[\"minutes\"] = model.predict(test.drop(leak_columns, axis=1))\n",
        "test_copy[leak_columns + [\"minutes\"]].to_csv(\n",
        "    f\"minutes.csv\"\n",
        ")"
      ]
    },
    {
      "cell_type": "code",
      "execution_count": 20,
      "id": "dd0d8268-fd86-4d5f-aeb0-273cb4eaf8c4",
      "metadata": {
        "id": "dd0d8268-fd86-4d5f-aeb0-273cb4eaf8c4"
      },
      "outputs": [],
      "source": [
        "predicted_minutes=model.predict(val)\n",
        "val_=pd.DataFrame({\"ind\":val.index,\"actul_minutes\":y_val,\"predicted_minutes\":predicted_minutes,\"position\":val[\"position\"]})"
      ]
    },
    {
      "cell_type": "code",
      "execution_count": 21,
      "id": "72342618-a8ea-4790-beed-683532b93e0c",
      "metadata": {
        "id": "72342618-a8ea-4790-beed-683532b93e0c",
        "outputId": "cbbd1a7a-b580-4835-b78c-69d27c37bf9c",
        "colab": {
          "base_uri": "https://localhost:8080/"
        }
      },
      "outputs": [
        {
          "output_type": "stream",
          "name": "stdout",
          "text": [
            "STARTING GOALKEEPERS PERFORMANCE!!!\n",
            "[[859  39]\n",
            " [ 24 324]]\n",
            "starting Accuracy score 0.949438202247191\n",
            " starting f1 score: 0.9113924050632911\n"
          ]
        }
      ],
      "source": [
        "print(f\"STARTING GOALKEEPERS PERFORMANCE!!!\")\n",
        "a=val_[val_[\"position\"]==\"GK\"][\"actul_minutes\"]\n",
        "b=val_[val_[\"position\"]==\"GK\"][\"predicted_minutes\"]\n",
        "print(confusion_matrix(a,b))\n",
        "print(\n",
        "    f\"starting Accuracy score {accuracy_score(a,b)}\"\n",
        ")\n",
        "\n",
        "print(\n",
        "    f\" starting f1 score: {f1_score(a,b)}\"\n",
        ")"
      ]
    },
    {
      "cell_type": "code",
      "execution_count": 22,
      "id": "b6794e31-f19d-467f-b49f-0c7d0cd15a60",
      "metadata": {
        "id": "b6794e31-f19d-467f-b49f-0c7d0cd15a60",
        "outputId": "0cf0eabc-b3ce-4edf-e0c0-10555c03976b",
        "colab": {
          "base_uri": "https://localhost:8080/"
        }
      },
      "outputs": [
        {
          "output_type": "stream",
          "name": "stdout",
          "text": [
            "STARTING DEFENDERS PERFORMANCE!!!\n",
            "[[1805  527]\n",
            " [ 146 1323]]\n",
            "starting Accuracy score 0.822941331228624\n",
            " starting f1 score: 0.797228080747213\n"
          ]
        }
      ],
      "source": [
        "print(f\"STARTING DEFENDERS PERFORMANCE!!!\")\n",
        "a=val_[val_[\"position\"]==\"DEF\"][\"actul_minutes\"]\n",
        "b=val_[val_[\"position\"]==\"DEF\"][\"predicted_minutes\"]\n",
        "print(confusion_matrix(a,b))\n",
        "print(\n",
        "    f\"starting Accuracy score {accuracy_score(a,b)}\"\n",
        ")\n",
        "\n",
        "print(\n",
        "    f\" starting f1 score: {f1_score(a,b)}\"\n",
        ")"
      ]
    },
    {
      "cell_type": "code",
      "execution_count": 23,
      "id": "254b8450-f1aa-42ca-bee0-884dde1a53b8",
      "metadata": {
        "id": "254b8450-f1aa-42ca-bee0-884dde1a53b8",
        "outputId": "adefc595-14ec-4b2e-9dc8-94cf45d4ac06",
        "colab": {
          "base_uri": "https://localhost:8080/"
        }
      },
      "outputs": [
        {
          "output_type": "stream",
          "name": "stdout",
          "text": [
            "STARTING MIDFIELDERS PERFORMANCE!!!\n",
            "[[2154  648]\n",
            " [ 154 1852]]\n",
            "starting Accuracy score 0.8331946755407654\n",
            " starting f1 score: 0.8220150909897914\n"
          ]
        }
      ],
      "source": [
        "print(f\"STARTING MIDFIELDERS PERFORMANCE!!!\")\n",
        "a=val_[val_[\"position\"]==\"MID\"][\"actul_minutes\"]\n",
        "b=val_[val_[\"position\"]==\"MID\"][\"predicted_minutes\"]\n",
        "print(confusion_matrix(a,b))\n",
        "print(\n",
        "    f\"starting Accuracy score {accuracy_score(a,b)}\"\n",
        ")\n",
        "\n",
        "print(\n",
        "    f\" starting f1 score: {f1_score(a,b)}\"\n",
        ")"
      ]
    },
    {
      "cell_type": "code",
      "execution_count": 24,
      "id": "1a716bc6-fd8a-49ed-a09f-82d4624a8431",
      "metadata": {
        "id": "1a716bc6-fd8a-49ed-a09f-82d4624a8431",
        "outputId": "37ca4ff2-98b1-4408-8cbf-6b8938f89c39",
        "colab": {
          "base_uri": "https://localhost:8080/"
        }
      },
      "outputs": [
        {
          "output_type": "stream",
          "name": "stdout",
          "text": [
            "STARTING FORWARDS PERFORMANCE!!!\n",
            "[[707 196]\n",
            " [ 52 505]]\n",
            "starting Accuracy score 0.8301369863013699\n",
            " starting f1 score: 0.8028616852146264\n"
          ]
        }
      ],
      "source": [
        "print(f\"STARTING FORWARDS PERFORMANCE!!!\")\n",
        "a=val_[val_[\"position\"]==\"FWD\"][\"actul_minutes\"]\n",
        "b=val_[val_[\"position\"]==\"FWD\"][\"predicted_minutes\"]\n",
        "print(confusion_matrix(a,b))\n",
        "print(\n",
        "    f\"starting Accuracy score {accuracy_score(a,b)}\"\n",
        ")\n",
        "\n",
        "print(\n",
        "    f\" starting f1 score: {f1_score(a,b)}\"\n",
        ")"
      ]
    },
    {
      "cell_type": "code",
      "execution_count": 25,
      "id": "b15a5a51-0207-475b-a4e0-9570d02cb8a3",
      "metadata": {
        "id": "b15a5a51-0207-475b-a4e0-9570d02cb8a3",
        "outputId": "ef6367f3-2148-4638-92f3-6706d118bffb",
        "colab": {
          "base_uri": "https://localhost:8080/",
          "height": 241
        }
      },
      "outputs": [
        {
          "output_type": "execute_result",
          "data": {
            "text/plain": [
              "position\n",
              "MID    160\n",
              "DEF    111\n",
              "FWD     37\n",
              "GKP     21\n",
              "Name: count, dtype: int64"
            ],
            "text/html": [
              "<div>\n",
              "<style scoped>\n",
              "    .dataframe tbody tr th:only-of-type {\n",
              "        vertical-align: middle;\n",
              "    }\n",
              "\n",
              "    .dataframe tbody tr th {\n",
              "        vertical-align: top;\n",
              "    }\n",
              "\n",
              "    .dataframe thead th {\n",
              "        text-align: right;\n",
              "    }\n",
              "</style>\n",
              "<table border=\"1\" class=\"dataframe\">\n",
              "  <thead>\n",
              "    <tr style=\"text-align: right;\">\n",
              "      <th></th>\n",
              "      <th>count</th>\n",
              "    </tr>\n",
              "    <tr>\n",
              "      <th>position</th>\n",
              "      <th></th>\n",
              "    </tr>\n",
              "  </thead>\n",
              "  <tbody>\n",
              "    <tr>\n",
              "      <th>MID</th>\n",
              "      <td>160</td>\n",
              "    </tr>\n",
              "    <tr>\n",
              "      <th>DEF</th>\n",
              "      <td>111</td>\n",
              "    </tr>\n",
              "    <tr>\n",
              "      <th>FWD</th>\n",
              "      <td>37</td>\n",
              "    </tr>\n",
              "    <tr>\n",
              "      <th>GKP</th>\n",
              "      <td>21</td>\n",
              "    </tr>\n",
              "  </tbody>\n",
              "</table>\n",
              "</div><br><label><b>dtype:</b> int64</label>"
            ]
          },
          "metadata": {},
          "execution_count": 25
        }
      ],
      "source": [
        "test_copy[test_copy[\"minutes\"]==1][\"position\"].value_counts()"
      ]
    },
    {
      "cell_type": "code",
      "execution_count": 26,
      "id": "988c76fe-70cb-4491-aaef-6320ffc02302",
      "metadata": {
        "id": "988c76fe-70cb-4491-aaef-6320ffc02302"
      },
      "outputs": [],
      "source": [
        "train = train_copy[train_copy[\"minutes\"] > 0]\n",
        "test = test_copy[test_copy[\"minutes\"] > 0]\n",
        "\n",
        "# MINUTES PREDICTION ENDS HERE - MAKE SURE TO SAVE MINUTES PREDICTIONS AT THE BOTTOM OF THE SCRIPT"
      ]
    },
    {
      "cell_type": "code",
      "execution_count": 27,
      "id": "00f690fb-e2a5-4bdd-8161-0408335d889e",
      "metadata": {
        "id": "00f690fb-e2a5-4bdd-8161-0408335d889e"
      },
      "outputs": [],
      "source": [
        "test_copy[test_copy[\"position\"]==\"DEF\"][[\"name\",\"team\",\"minutes\"]].to_csv(f\"/content/gdrive/MyDrive/fplpredict/predicted_dataset/GW{gameweek}/defendetrs_minutes.csv\")\n",
        "test_copy[test_copy[\"position\"]==\"GKP\"][[\"name\",\"team\",\"minutes\"]].to_csv(f\"/content/gdrive/MyDrive/fplpredict/predicted_dataset/GW{gameweek}/goalkeepers_minutes.csv\")\n",
        "test_copy[test_copy[\"position\"]==\"MID\"][[\"name\",\"team\",\"minutes\"]].to_csv(f\"/content/gdrive/MyDrive/fplpredict/predicted_dataset/GW{gameweek}/midfielders_minutes.csv\")\n",
        "test_copy[test_copy[\"position\"]==\"FWD\"][[\"name\",\"team\",\"minutes\"]].to_csv(f\"/content/gdrive/MyDrive/fplpredict/predicted_dataset/GW{gameweek}/forwards_minutes.csv\")"
      ]
    },
    {
      "cell_type": "code",
      "execution_count": null,
      "id": "2a6606b8-a34e-496f-a1df-abd93438d400",
      "metadata": {
        "id": "2a6606b8-a34e-496f-a1df-abd93438d400"
      },
      "outputs": [],
      "source": []
    },
    {
      "cell_type": "code",
      "execution_count": null,
      "id": "465a2c66-217a-4940-a0bb-b1fc86bd8ac4",
      "metadata": {
        "id": "465a2c66-217a-4940-a0bb-b1fc86bd8ac4"
      },
      "outputs": [],
      "source": []
    },
    {
      "cell_type": "code",
      "execution_count": null,
      "id": "933f34cc-a228-412b-b879-029979fe8f35",
      "metadata": {
        "id": "933f34cc-a228-412b-b879-029979fe8f35"
      },
      "outputs": [],
      "source": []
    },
    {
      "cell_type": "code",
      "execution_count": null,
      "id": "18a897bd-7769-483e-be9e-0ef7924a7106",
      "metadata": {
        "id": "18a897bd-7769-483e-be9e-0ef7924a7106"
      },
      "outputs": [],
      "source": []
    },
    {
      "cell_type": "code",
      "execution_count": null,
      "id": "1397458b-c996-48dc-b91a-18547ff90d1b",
      "metadata": {
        "id": "1397458b-c996-48dc-b91a-18547ff90d1b"
      },
      "outputs": [],
      "source": []
    }
  ],
  "metadata": {
    "kernelspec": {
      "display_name": "Python 3 (ipykernel)",
      "language": "python",
      "name": "python3"
    },
    "language_info": {
      "codemirror_mode": {
        "name": "ipython",
        "version": 3
      },
      "file_extension": ".py",
      "mimetype": "text/x-python",
      "name": "python",
      "nbconvert_exporter": "python",
      "pygments_lexer": "ipython3",
      "version": "3.10.2"
    },
    "colab": {
      "provenance": [],
      "include_colab_link": true
    }
  },
  "nbformat": 4,
  "nbformat_minor": 5
}