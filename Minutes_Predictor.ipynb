{
  "cells": [
    {
      "cell_type": "code",
      "source": [
        "<a target=\"_blank\" href=\"https://colab.research.google.com/github/PeteJoh/fpl-ai/blob/master/Minutes_Predictor.ipynb\">\n",
        "  <img src=\"https://colab.research.google.com/assets/colab-badge.svg\" alt=\"Open In Colab\"/>\n",
        "</a>"
      ],
      "metadata": {
        "id": "WWBNAOcz8wiy"
      },
      "id": "WWBNAOcz8wiy",
      "execution_count": null,
      "outputs": []
    },
    {
      "cell_type": "code",
      "execution_count": null,
      "id": "1e6d5018-f9c6-4b41-8223-99aa08cde3a7",
      "metadata": {
        "colab": {
          "base_uri": "https://localhost:8080/"
        },
        "id": "1e6d5018-f9c6-4b41-8223-99aa08cde3a7",
        "outputId": "61a1d783-1a59-4eb0-e9fd-29c0387ab90b"
      },
      "outputs": [
        {
          "output_type": "stream",
          "name": "stdout",
          "text": [
            "Mounted at /content/gdrive\n"
          ]
        }
      ],
      "source": [
        "#------------------------------------------------------\n",
        "from google.colab import drive\n",
        "drive.mount('/content/gdrive')"
      ]
    },
    {
      "cell_type": "code",
      "execution_count": null,
      "id": "f2350d66-b02c-45ba-b5d8-15d6dc1921fe",
      "metadata": {
        "id": "f2350d66-b02c-45ba-b5d8-15d6dc1921fe"
      },
      "outputs": [],
      "source": [
        "forward_statistics =['value', 'was_home', 'last_season_position', 'percent_value',\n",
        "       'position rank', 'goals_scored_ex', 'assists_ex', 'total_points_ex',\n",
        "       'minutes_ex', 'goals_conceded_ex', 'creativity_ex', 'influence_ex',\n",
        "       'threat_ex', 'bonus_ex', 'bps_ex', 'ict_index_ex', 'now_cost_ex', 'GW', 'opponent_last_season_position',\n",
        "        'mean assists 3','mean bonus 3', 'mean bps 3','mean creativity 3', 'mean goals_scored 3',\n",
        "       'mean ict_index 3', 'mean influence 3', 'mean minutes 3', 'mean penalties_missed 3',  'mean threat 3',\n",
        "       'mean total_points 3','mean value 3', 'mean match_result 3', 'std bps 3', 'std creativity 3',\n",
        "       'std ict_index 3', 'std influence 3', 'std minutes 3',\n",
        "       'std threat 3', 'std total_points 3', 'std value 3']\n",
        "\n",
        "leak_columns = [\n",
        "    \"name\",\n",
        "    \"team\",\n",
        "]  # columns that shouldnt be used in training for fear of data leakage\n",
        "\n",
        "\n",
        "dropped_columns = [\n",
        "    \"season\",\n",
        "    \"opponent\",\n",
        "    \"match_result\",\n",
        "   # \"position\",\n",
        "    \"assists\",\n",
        "    \"penalties_missed\",\n",
        "    \"bonus\",\n",
        "    \"bps\",\n",
        "    \"clean_sheets\",\n",
        "    \"creativity\",\n",
        "    \"goals_conceded\",\n",
        "    \"goals_scored\",\n",
        "    \"ict_index\",\n",
        "    \"influence\",\n",
        "    \"own_goals\",\n",
        "    \"penalties_saved\",\n",
        "    \"red_cards\",\n",
        "    \"saves\",\n",
        "    \"selected\",\n",
        "    \"threat\",\n",
        "    \"transfers_balance\",\n",
        "    \"transfers_in\",\n",
        "    \"transfers_out\",\n",
        "    \"yellow_cards\",\n",
        "    \"team Goal scored\",\n",
        "    \"team Goal conceded\"\n",
        "]  # \"value\",\n",
        "\n",
        "midfielder_statistics =['value', 'was_home', 'last_season_position', 'percent_value',\n",
        "       'position rank', 'goals_scored_ex', 'assists_ex', 'total_points_ex',\n",
        "       'minutes_ex', 'goals_conceded_ex', 'creativity_ex', 'influence_ex',\n",
        "       'threat_ex', 'bonus_ex', 'bps_ex', 'ict_index_ex', 'now_cost_ex', 'GW', 'opponent_last_season_position',\n",
        "        'mean assists 3','mean bonus 3', 'mean bps 3','mean creativity 3', 'mean goals_scored 3',\n",
        "       'mean ict_index 3', 'mean influence 3', 'mean minutes 3', 'mean penalties_missed 3',  'mean threat 3',\n",
        "       'mean total_points 3','mean value 3', 'mean match_result 3', 'std bps 3', 'std creativity 3',\n",
        "       'std ict_index 3', 'std influence 3', 'std minutes 3',\n",
        "       'std threat 3', 'std total_points 3', 'std value 3']\n",
        "\n",
        "goalkeeper_statistics = ['value', 'was_home', 'last_season_position', 'percent_value',\n",
        "       'position rank', 'total_points_ex', 'minutes_ex', 'goals_conceded_ex',\n",
        "       'bonus_ex', 'bps_ex', 'ict_index_ex', 'clean_sheets_ex',\n",
        "       'red_cards_ex', 'now_cost_ex', 'GW', 'opponent_last_season_position',\n",
        "       'mean bonus 3', 'mean bps 3', 'mean clean_sheets 3', 'mean goals_conceded 3',\n",
        "       'mean ict_index 3',  'mean minutes 3',\n",
        "       'mean own_goals 3',  'mean penalties_saved 3',\n",
        "        'mean saves 3',  'mean threat 3',\n",
        "       'mean total_points 3',\n",
        "       'mean value 3', 'mean match_result 3', 'std bps 3',\n",
        "       'std ict_index 3', 'std influence 3', 'std minutes 3',\n",
        "       'std threat 3', 'std total_points 3', 'std value 3']\n",
        "\n",
        "statistics =['value', 'position','was_home', 'last_season_position', 'percent_value',\n",
        "       'position rank', 'goals_scored_ex', 'assists_ex', 'total_points_ex',\n",
        "       'minutes_ex', 'goals_conceded_ex', 'creativity_ex', 'influence_ex',\n",
        "       'threat_ex', 'bonus_ex', 'bps_ex', 'ict_index_ex', 'clean_sheets_ex',\n",
        "       'yellow_cards_ex','now_cost_ex', 'GW', 'opponent_last_season_position', 'mean assists 3',\n",
        "       'mean bonus 3', 'mean bps 3', 'mean clean_sheets 3',\n",
        "       'mean creativity 3', 'mean goals_conceded 3', 'mean goals_scored 3',\n",
        "       'mean ict_index 3', 'mean influence 3', 'mean minutes 3',\n",
        "       'mean own_goals 3',\n",
        "       'mean red_cards 3',  'mean threat 3','mean total_points 3',\n",
        "       'mean value 3', 'mean match_result 3', 'std bps 3', 'std creativity 3',\n",
        "       'std ict_index 3', 'std influence 3', 'std minutes 3',\n",
        "       'std threat 3', 'std total_points 3', 'std value 3','mean saves 3','mean assists all',\n",
        "       'mean bonus all', 'mean bps all', 'mean clean_sheets all',\n",
        "       'mean creativity all', 'mean goals_conceded all', 'mean goals_scored all',\n",
        "       'mean ict_index all', 'mean influence all', 'mean minutes all',\n",
        "       'mean own_goals all',\n",
        "       'mean red_cards all',  'mean threat all','mean total_points all',\n",
        "       'mean value all', 'mean match_result all',\n",
        "       'mean team Goal scored 3','mean team Goal scored all','mean team Goal conceded 3','mean team Goal conceded all',\"ratio_goal_scored all\",\"ratio_goal_scored 3\",\n",
        "       'opp mean team Goal scored 3','opp mean team Goal conceded 3','opp mean team Goal scored all','opp mean team Goal conceded all',\"opp mean match_result all\"]\n",
        "\n",
        "\n",
        "date_cols=[\"day_of week\",\"month\",\"hour\",\"week\"]"
      ]
    },
    {
      "cell_type": "code",
      "execution_count": null,
      "id": "a2606c9a-6fb3-421f-9b3a-b8d1703d7e45",
      "metadata": {
        "id": "a2606c9a-6fb3-421f-9b3a-b8d1703d7e45"
      },
      "outputs": [],
      "source": [
        "def convert_minutes(val):\n",
        "    \"\"\"CONVERTS MINUTES TO A CATEGORICAL OUTPUT\"\"\"\n",
        "    if val > 10:\n",
        "        return 1\n",
        "    else:\n",
        "        return 0"
      ]
    },
    {
      "cell_type": "code",
      "execution_count": null,
      "id": "8dbc4464-e76b-400b-8404-6b68e2770f41",
      "metadata": {
        "id": "8dbc4464-e76b-400b-8404-6b68e2770f41"
      },
      "outputs": [],
      "source": [
        "pip install catboost"
      ]
    },
    {
      "cell_type": "code",
      "execution_count": null,
      "id": "aadf5193-672b-4feb-8a8d-54f0558166df",
      "metadata": {
        "id": "aadf5193-672b-4feb-8a8d-54f0558166df"
      },
      "outputs": [],
      "source": [
        "from hyperopt import tpe,hp,fmin,STATUS_OK,Trials\n",
        "from hyperopt.pyll.base import scope"
      ]
    },
    {
      "cell_type": "code",
      "execution_count": null,
      "id": "09c45d39-c1a2-4aec-a762-4dceddf352fa",
      "metadata": {
        "id": "09c45d39-c1a2-4aec-a762-4dceddf352fa"
      },
      "outputs": [],
      "source": [
        "import pandas as pd\n",
        "import numpy as np\n",
        "import warnings\n",
        "import os\n",
        "\n",
        "\n",
        "warnings.filterwarnings(\"ignore\")\n",
        "from sklearn.model_selection import train_test_split\n",
        "from sklearn.pipeline import Pipeline\n",
        "from sklearn.ensemble import (\n",
        "    RandomForestClassifier,\n",
        "    RandomForestRegressor,\n",
        "    GradientBoostingRegressor,\n",
        ")\n",
        "from sklearn.preprocessing import StandardScaler, RobustScaler, MinMaxScaler\n",
        "from sklearn.impute import SimpleImputer\n",
        "from sklearn.linear_model import LinearRegression, Lasso, Ridge\n",
        "from sklearn.metrics import (\n",
        "    mean_squared_error,\n",
        "    mean_absolute_error,\n",
        "    confusion_matrix,\n",
        "    accuracy_score,\n",
        "    f1_score,\n",
        ")\n",
        "from lightgbm import LGBMRegressor, LGBMClassifier\n",
        "from catboost import CatBoostClassifier, CatBoostRegressor\n",
        "from sklearn.model_selection import StratifiedKFold,KFold\n",
        "\n"
      ]
    },
    {
      "cell_type": "code",
      "execution_count": null,
      "id": "19daa975-1ac3-4031-8b60-0d9911740d81",
      "metadata": {
        "id": "19daa975-1ac3-4031-8b60-0d9911740d81"
      },
      "outputs": [],
      "source": [
        "gameweek=10"
      ]
    },
    {
      "cell_type": "code",
      "execution_count": null,
      "id": "74d8c428-39d9-4c89-b3e3-4882516d1994",
      "metadata": {
        "id": "74d8c428-39d9-4c89-b3e3-4882516d1994"
      },
      "outputs": [],
      "source": [
        "# RELOAD THIS DATA FOR EACH MODEL\n",
        "\n",
        "train = pd.read_csv(\"/content/gdrive/MyDrive/fplpredict/cleaned_dataset/cleaned_previous_seasons.csv\",index_col=0)#/content/drive/MyDrive/Fplpredict /cleaned_previous_seasons.csv\", index_col=0)\n",
        "old_gameweek_cleaned = []\n",
        "for i in range(1, gameweek):\n",
        "    old_gameweek_cleaned.append(pd.read_csv(f\"/content/gdrive/MyDrive/fplpredict/cleaned_dataset/2024-25/GW{i}.csv\"))\n",
        "old_gameweeks = pd.concat(old_gameweek_cleaned)[train.columns]\n",
        "train = pd.concat([train, old_gameweeks])\n",
        "\n",
        "# data for current gameweek we want to predict on\n",
        "test = pd.read_csv(f\"/content/gdrive/MyDrive/fplpredict/cleaned_dataset/2024-25/GW{gameweek}.csv\", index_col=0)"
      ]
    },
    {
      "cell_type": "code",
      "execution_count": null,
      "id": "7b5df107-8257-4581-83d9-e7e95611d200",
      "metadata": {
        "id": "7b5df107-8257-4581-83d9-e7e95611d200"
      },
      "outputs": [],
      "source": [
        "#CREATE GAMEWEEK PREDICTIONS FOLDER\n",
        "path = f\"/content/gdrive/MyDrive/fplpredict/predicted_dataset/GW{gameweek}\"\n",
        "\n",
        "# create new single directory\n",
        "# check whether directory already exists\n",
        "if not os.path.exists(path):\n",
        "    os.mkdir(path)\n",
        "    print(\"Folder %s created!\" % path)\n",
        "else:\n",
        "    print(\"Folder %s already exists\" % path)\n",
        "\n",
        "# data from current season but previous gameweeks"
      ]
    },
    {
      "cell_type": "code",
      "execution_count": null,
      "id": "d949e85a-c632-4f47-b813-7047f6af1c0d",
      "metadata": {
        "id": "d949e85a-c632-4f47-b813-7047f6af1c0d"
      },
      "outputs": [],
      "source": [
        "train[\"position\"].value_counts()"
      ]
    },
    {
      "cell_type": "code",
      "execution_count": null,
      "id": "89cea07d-d8f0-45c4-9181-b625fa777903",
      "metadata": {
        "id": "89cea07d-d8f0-45c4-9181-b625fa777903"
      },
      "outputs": [],
      "source": [
        "train[\"position\"]=train[\"position\"].replace({\"GKP\":\"GK\" })"
      ]
    },
    {
      "cell_type": "code",
      "execution_count": null,
      "id": "f9c961fa-75d4-4e6c-a125-b0f3bf25196a",
      "metadata": {
        "id": "f9c961fa-75d4-4e6c-a125-b0f3bf25196a"
      },
      "outputs": [],
      "source": [
        "# MINUTES PREDICTOR STARTS HERE************************************************\n",
        "# Ensure both DataFrames have the same columns before alignment\n",
        "# Create the date-related columns in 'test' first\n",
        "import pandas as pd\n",
        "from sklearn.model_selection import train_test_split\n",
        "\n",
        "test[\"index\"] = test[\"name\"] + test[\"kickoff_time\"].astype(\"str\")\n",
        "test = test.set_index(\"index\")\n",
        "test[\"date\"] = pd.to_datetime(test[\"kickoff_time\"], format='ISO8601', errors='coerce')\n",
        "test[\"day_of week\"] = test[\"date\"].dt.day_name()  # Added parentheses to call the function\n",
        "test[\"month\"] = test[\"date\"].dt.month\n",
        "test[\"hour\"] = test[\"date\"].dt.hour\n",
        "test[\"week\"] = test[\"date\"].dt.isocalendar().week\n",
        "test.drop([\"kickoff_time\", \"date\"], axis=1, inplace=True)\n",
        "\n",
        "# Now process 'train' DataFrame\n",
        "# Create 'index' column *before* dropping 'kickoff_time'\n",
        "train[\"index\"] = train[\"name\"] + train[\"kickoff_time\"].astype(\"str\")\n",
        "train.drop_duplicates(\"index\", keep=\"last\", inplace=True)\n",
        "train = train.set_index(\"index\")\n",
        "\n",
        "# Now you can create date features and then drop 'kickoff_time'\n",
        "train[\"date\"] = pd.to_datetime(train[\"kickoff_time\"], format='ISO8601', errors='coerce')\n",
        "train[\"day_of week\"] = train[\"date\"].dt.day_name()  # Added parentheses to call the function\n",
        "train[\"month\"] = train[\"date\"].dt.month\n",
        "train[\"hour\"] = train[\"date\"].dt.hour\n",
        "train[\"week\"] = train[\"date\"].dt.isocalendar().week\n",
        "train.drop([\"kickoff_time\", \"date\"], axis=1, inplace=True) # Now safe to drop\n",
        "\n",
        "\n",
        "#Keep only common columns in both dataframes\n",
        "common_cols = list(set(train.columns) & set(test.columns))\n",
        "\n",
        "train = train[common_cols]\n",
        "test = test[common_cols]\n",
        "\n",
        "\n",
        "\n",
        "train_copy = train.copy()\n",
        "test_copy = test.copy()\n",
        "\n",
        "\n",
        "train[\"minutes\"] = train[\"minutes\"].apply(convert_minutes)\n",
        "\n",
        "target = train[[\"minutes\", \"GW\", \"position\"]]\n",
        "train.drop([\"total_points\", \"minutes\"], axis=1, inplace=True)\n",
        "test.drop([\"total_points\", \"minutes\"], axis=1, inplace=True)\n",
        "train.drop(dropped_columns, axis=1, inplace=True)\n",
        "test.drop(dropped_columns, axis=1, inplace=True)\n",
        "\n",
        "\n",
        "# Convert categorical columns to numerical\n",
        "for col in train.columns:\n",
        "    if train[col].dtype == \"object\":\n",
        "        if col not in [\"team\", \"name\", \"position\"]:\n",
        "            train[col] = pd.factorize(train[col])[0]\n",
        "            test[col] = pd.factorize(test[col])[0]\n",
        "\n",
        "train[\"was_home\"] = train[\"was_home\"].replace({True: 0, False: 1})\n",
        "test[\"was_home\"] = test[\"was_home\"].replace({True: 0, False: 1})\n",
        "\n",
        "train = train[statistics + leak_columns + date_cols]\n",
        "test = test[statistics + leak_columns + date_cols]\n",
        "\n",
        "x, val, y, y_val = train_test_split(\n",
        "    train.drop(leak_columns, axis=1),\n",
        "    target[\"minutes\"],\n",
        "    test_size=0.1,\n",
        "    random_state=0,\n",
        ")"
      ]
    },
    {
      "cell_type": "code",
      "execution_count": null,
      "id": "8977ff7f-8216-4a71-b51a-0f87a8e72a88",
      "metadata": {
        "id": "8977ff7f-8216-4a71-b51a-0f87a8e72a88"
      },
      "outputs": [],
      "source": [
        "params={'colsample_bylevel': 0.8070621518153563, 'learning_rate': 0.04765984972709895, 'max_depth': 7, 'reg_lambda': 5, 'scale_pos_weight': 2.5,'subsample': 0.6794390204583894}\n",
        "model=CatBoostClassifier(**params,cat_features=[\"position\"],random_state=0,early_stopping_rounds=500,use_best_model=True,verbose=500,n_estimators=10000)"
      ]
    },
    {
      "cell_type": "code",
      "execution_count": null,
      "id": "cda8cdf1-e141-4937-a459-2cb60dbe0edb",
      "metadata": {
        "id": "cda8cdf1-e141-4937-a459-2cb60dbe0edb"
      },
      "outputs": [],
      "source": [
        "model.fit(x, y,eval_set=[(val,y_val)])"
      ]
    },
    {
      "cell_type": "code",
      "execution_count": null,
      "id": "4a2d8c68-26fe-4476-ae35-3bb62c574a58",
      "metadata": {
        "id": "4a2d8c68-26fe-4476-ae35-3bb62c574a58"
      },
      "outputs": [],
      "source": [
        "print(confusion_matrix(model.predict(val), y_val))\n",
        "print(\n",
        "    f\"starting Accuracy score {accuracy_score(model.predict(val), y_val)}\"\n",
        ")\n",
        "\n",
        "print(\n",
        "    f\" starting f1 score: {f1_score(model.predict(val), y_val)}\"\n",
        ")\n",
        "\n",
        "feature_importance = pd.DataFrame(\n",
        "    {\"column\": x.columns, \"imp\": model.feature_importances_}\n",
        ").sort_values(\n",
        "    \"imp\", ascending=False\n",
        ")"
      ]
    },
    {
      "cell_type": "code",
      "execution_count": null,
      "id": "d1b321e1-572b-4f0c-b695-39187cc9e20b",
      "metadata": {
        "id": "d1b321e1-572b-4f0c-b695-39187cc9e20b"
      },
      "outputs": [],
      "source": [
        "feature_importance.head(50)"
      ]
    },
    {
      "cell_type": "code",
      "execution_count": null,
      "id": "b5d7e328-df71-40b8-872f-205026c36af4",
      "metadata": {
        "id": "b5d7e328-df71-40b8-872f-205026c36af4"
      },
      "outputs": [],
      "source": [
        "feature_importance.tail(20)"
      ]
    },
    {
      "cell_type": "code",
      "execution_count": null,
      "id": "16ed3969-47ea-49c0-9663-dce8f785d5ed",
      "metadata": {
        "id": "16ed3969-47ea-49c0-9663-dce8f785d5ed"
      },
      "outputs": [],
      "source": [
        "y_val"
      ]
    },
    {
      "cell_type": "code",
      "execution_count": null,
      "id": "d11c26e8-3a94-4d9d-a9f1-ff9a35c03b63",
      "metadata": {
        "id": "d11c26e8-3a94-4d9d-a9f1-ff9a35c03b63"
      },
      "outputs": [],
      "source": [
        "test_copy[\"minutes\"] = model.predict(test.drop(leak_columns, axis=1))\n",
        "test_copy[leak_columns + [\"minutes\"]].to_csv(\n",
        "    f\"minutes.csv\"\n",
        ")"
      ]
    },
    {
      "cell_type": "code",
      "execution_count": null,
      "id": "dd0d8268-fd86-4d5f-aeb0-273cb4eaf8c4",
      "metadata": {
        "id": "dd0d8268-fd86-4d5f-aeb0-273cb4eaf8c4"
      },
      "outputs": [],
      "source": [
        "predicted_minutes=model.predict(val)\n",
        "val_=pd.DataFrame({\"ind\":val.index,\"actul_minutes\":y_val,\"predicted_minutes\":predicted_minutes,\"position\":val[\"position\"]})"
      ]
    },
    {
      "cell_type": "code",
      "execution_count": null,
      "id": "72342618-a8ea-4790-beed-683532b93e0c",
      "metadata": {
        "id": "72342618-a8ea-4790-beed-683532b93e0c"
      },
      "outputs": [],
      "source": [
        "print(f\"STARTING GOALKEEPERS PERFORMANCE!!!\")\n",
        "a=val_[val_[\"position\"]==\"GK\"][\"actul_minutes\"]\n",
        "b=val_[val_[\"position\"]==\"GK\"][\"predicted_minutes\"]\n",
        "print(confusion_matrix(a,b))\n",
        "print(\n",
        "    f\"starting Accuracy score {accuracy_score(a,b)}\"\n",
        ")\n",
        "\n",
        "print(\n",
        "    f\" starting f1 score: {f1_score(a,b)}\"\n",
        ")"
      ]
    },
    {
      "cell_type": "code",
      "execution_count": null,
      "id": "b6794e31-f19d-467f-b49f-0c7d0cd15a60",
      "metadata": {
        "id": "b6794e31-f19d-467f-b49f-0c7d0cd15a60"
      },
      "outputs": [],
      "source": [
        "print(f\"STARTING DEFENDERS PERFORMANCE!!!\")\n",
        "a=val_[val_[\"position\"]==\"DEF\"][\"actul_minutes\"]\n",
        "b=val_[val_[\"position\"]==\"DEF\"][\"predicted_minutes\"]\n",
        "print(confusion_matrix(a,b))\n",
        "print(\n",
        "    f\"starting Accuracy score {accuracy_score(a,b)}\"\n",
        ")\n",
        "\n",
        "print(\n",
        "    f\" starting f1 score: {f1_score(a,b)}\"\n",
        ")"
      ]
    },
    {
      "cell_type": "code",
      "execution_count": null,
      "id": "254b8450-f1aa-42ca-bee0-884dde1a53b8",
      "metadata": {
        "id": "254b8450-f1aa-42ca-bee0-884dde1a53b8"
      },
      "outputs": [],
      "source": [
        "print(f\"STARTING MIDFIELDERS PERFORMANCE!!!\")\n",
        "a=val_[val_[\"position\"]==\"MID\"][\"actul_minutes\"]\n",
        "b=val_[val_[\"position\"]==\"MID\"][\"predicted_minutes\"]\n",
        "print(confusion_matrix(a,b))\n",
        "print(\n",
        "    f\"starting Accuracy score {accuracy_score(a,b)}\"\n",
        ")\n",
        "\n",
        "print(\n",
        "    f\" starting f1 score: {f1_score(a,b)}\"\n",
        ")"
      ]
    },
    {
      "cell_type": "code",
      "execution_count": null,
      "id": "1a716bc6-fd8a-49ed-a09f-82d4624a8431",
      "metadata": {
        "id": "1a716bc6-fd8a-49ed-a09f-82d4624a8431"
      },
      "outputs": [],
      "source": [
        "print(f\"STARTING FORWARDS PERFORMANCE!!!\")\n",
        "a=val_[val_[\"position\"]==\"FWD\"][\"actul_minutes\"]\n",
        "b=val_[val_[\"position\"]==\"FWD\"][\"predicted_minutes\"]\n",
        "print(confusion_matrix(a,b))\n",
        "print(\n",
        "    f\"starting Accuracy score {accuracy_score(a,b)}\"\n",
        ")\n",
        "\n",
        "print(\n",
        "    f\" starting f1 score: {f1_score(a,b)}\"\n",
        ")"
      ]
    },
    {
      "cell_type": "code",
      "execution_count": null,
      "id": "b15a5a51-0207-475b-a4e0-9570d02cb8a3",
      "metadata": {
        "id": "b15a5a51-0207-475b-a4e0-9570d02cb8a3"
      },
      "outputs": [],
      "source": [
        "test_copy[test_copy[\"minutes\"]==1][\"position\"].value_counts()"
      ]
    },
    {
      "cell_type": "code",
      "execution_count": null,
      "id": "988c76fe-70cb-4491-aaef-6320ffc02302",
      "metadata": {
        "id": "988c76fe-70cb-4491-aaef-6320ffc02302"
      },
      "outputs": [],
      "source": [
        "train = train_copy[train_copy[\"minutes\"] > 0]\n",
        "test = test_copy[test_copy[\"minutes\"] > 0]\n",
        "\n",
        "# MINUTES PREDICTION ENDS HERE - MAKE SURE TO SAVE MINUTES PREDICTIONS AT THE BOTTOM OF THE SCRIPT"
      ]
    },
    {
      "cell_type": "code",
      "execution_count": null,
      "id": "00f690fb-e2a5-4bdd-8161-0408335d889e",
      "metadata": {
        "id": "00f690fb-e2a5-4bdd-8161-0408335d889e"
      },
      "outputs": [],
      "source": [
        "test_copy[test_copy[\"position\"]==\"DEF\"][[\"name\",\"team\",\"minutes\"]].to_csv(f\"/content/gdrive/MyDrive/fplpredict/predicted_dataset/GW{gameweek}/defendetrs_minutes.csv\")\n",
        "test_copy[test_copy[\"position\"]==\"GKP\"][[\"name\",\"team\",\"minutes\"]].to_csv(f\"/content/gdrive/MyDrive/fplpredict/predicted_dataset/GW{gameweek}/goalkeepers_minutes.csv\")\n",
        "test_copy[test_copy[\"position\"]==\"MID\"][[\"name\",\"team\",\"minutes\"]].to_csv(f\"/content/gdrive/MyDrive/fplpredict/predicted_dataset/GW{gameweek}/midfielders_minutes.csv\")\n",
        "test_copy[test_copy[\"position\"]==\"FWD\"][[\"name\",\"team\",\"minutes\"]].to_csv(f\"/content/gdrive/MyDrive/fplpredict/predicted_dataset/GW{gameweek}/forwards_minutes.csv\")"
      ]
    },
    {
      "cell_type": "code",
      "execution_count": null,
      "id": "2a6606b8-a34e-496f-a1df-abd93438d400",
      "metadata": {
        "id": "2a6606b8-a34e-496f-a1df-abd93438d400"
      },
      "outputs": [],
      "source": []
    },
    {
      "cell_type": "code",
      "execution_count": null,
      "id": "465a2c66-217a-4940-a0bb-b1fc86bd8ac4",
      "metadata": {
        "id": "465a2c66-217a-4940-a0bb-b1fc86bd8ac4"
      },
      "outputs": [],
      "source": []
    },
    {
      "cell_type": "code",
      "execution_count": null,
      "id": "933f34cc-a228-412b-b879-029979fe8f35",
      "metadata": {
        "id": "933f34cc-a228-412b-b879-029979fe8f35"
      },
      "outputs": [],
      "source": []
    },
    {
      "cell_type": "code",
      "execution_count": null,
      "id": "18a897bd-7769-483e-be9e-0ef7924a7106",
      "metadata": {
        "id": "18a897bd-7769-483e-be9e-0ef7924a7106"
      },
      "outputs": [],
      "source": []
    },
    {
      "cell_type": "code",
      "execution_count": null,
      "id": "1397458b-c996-48dc-b91a-18547ff90d1b",
      "metadata": {
        "id": "1397458b-c996-48dc-b91a-18547ff90d1b"
      },
      "outputs": [],
      "source": []
    }
  ],
  "metadata": {
    "kernelspec": {
      "display_name": "Python 3 (ipykernel)",
      "language": "python",
      "name": "python3"
    },
    "language_info": {
      "codemirror_mode": {
        "name": "ipython",
        "version": 3
      },
      "file_extension": ".py",
      "mimetype": "text/x-python",
      "name": "python",
      "nbconvert_exporter": "python",
      "pygments_lexer": "ipython3",
      "version": "3.10.2"
    },
    "colab": {
      "provenance": []
    }
  },
  "nbformat": 4,
  "nbformat_minor": 5
}