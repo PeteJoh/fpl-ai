{
  "nbformat": 4,
  "nbformat_minor": 0,
  "metadata": {
    "colab": {
      "provenance": [],
      "include_colab_link": true
    },
    "kernelspec": {
      "name": "python3",
      "display_name": "Python 3"
    },
    "language_info": {
      "name": "python"
    }
  },
  "cells": [
    {
      "cell_type": "markdown",
      "metadata": {
        "id": "view-in-github",
        "colab_type": "text"
      },
      "source": [
        "<a href=\"https://colab.research.google.com/github/PeteJoh/fpl-ai/blob/master/weekly_results.ipynb\" target=\"_parent\"><img src=\"https://colab.research.google.com/assets/colab-badge.svg\" alt=\"Open In Colab\"/></a>"
      ]
    },
    {
      "cell_type": "code",
      "source": [
        "# MAKE SURE TO ENTER CORRECT GW LOWER DOWN IN CODE\n",
        "import requests\n",
        "import pandas as pd\n",
        "\n",
        "from google.colab import drive\n",
        "drive.mount('/content/gdrive')"
      ],
      "metadata": {
        "id": "SSv0OkcNIy67"
      },
      "execution_count": null,
      "outputs": []
    },
    {
      "cell_type": "code",
      "execution_count": null,
      "metadata": {
        "id": "hkiAnsS1BPZP"
      },
      "outputs": [],
      "source": [
        "\n",
        "\n",
        "\n",
        "def get_team_name(id):\n",
        "    general_information = requests.get(\n",
        "        \"https://fantasy.premierleague.com/api/bootstrap-static/\"\n",
        "    ).json()\n",
        "    teams = general_information[\"teams\"]\n",
        "    for team in teams:\n",
        "        if team[\"id\"] == id:\n",
        "            return team[\"name\"]\n",
        "\n",
        "\n",
        "def get_player_fixture_info(id):\n",
        "    player_info = requests.get(\n",
        "        f\"https://fantasy.premierleague.com/api/element-summary/{id}/\"\n",
        "    ).json()\n",
        "    fixture = player_info[\"fixtures\"][0]\n",
        "    home_team = get_team_name(fixture[\"team_h\"])\n",
        "    away_team = get_team_name(fixture[\"team_a\"])\n",
        "    kickoff_time = fixture[\"kickoff_time\"]\n",
        "    is_home = fixture[\"is_home\"]\n",
        "    return home_team, away_team, kickoff_time, is_home\n",
        "\n",
        "\n",
        "def get_gameweek_result(id, gameweek):\n",
        "    \"returns a dictionary of the statistics from the gameweek\"\n",
        "    gameweek_results = requests.get(\n",
        "        f\"https://fantasy.premierleague.com/api/element-summary/{id}/\"\n",
        "    ).json()\n",
        "    return gameweek_results[\"history\"][gameweek - 1]\n",
        "\n",
        "\n",
        "def get_player_position(element_type):\n",
        "    general_information = requests.get(\n",
        "        \"https://fantasy.premierleague.com/api/bootstrap-static/\"\n",
        "    ).json()\n",
        "    positions = general_information[\"element_types\"]\n",
        "    for position in positions:\n",
        "        if position[\"id\"] == element_type:\n",
        "            return position[\"singular_name_short\"]\n",
        "\n",
        "\n",
        "general_info = requests.get(\n",
        "    f\"https://fantasy.premierleague.com/api/bootstrap-static/\"\n",
        ").json()\n",
        "player_infos = general_info[\"elements\"]\n",
        "gameweek = 10\n",
        "#***********************ENTER GW ABOVE THAT JUST COMPLETED***********************\n",
        "\"\"\"gameweek_fixture = pd.read_csv(f\"datasets/gw4.csv\")\n",
        "gameweek_fixture = pd.read_csv(\n",
        "       f\"https://raw.githubusercontent.com/vaastav/Fantasy-Premier-League/master/data/2024-25/gws/gw4.csv\"\n",
        "    )\n",
        "\n",
        "print(gameweek_fixture.columns)\n",
        "\n",
        "def get_fixture(matchday, name):\n",
        "    # load week's fixture\n",
        "    global gameweek_fixture\n",
        "    gameweek_fixture_ = gameweek_fixture[gameweek_fixture[\"name\"] == name]\n",
        "    #print(gameweek_fixture_[\"kickoff_time\"].iloc[0])\n",
        "    kickoff_time=gameweek_fixture_[\"kickoff_time\"].iloc[0]\n",
        "    team=gameweek_fixture_[\"team\"].iloc[0]\n",
        "    is_home=gameweek_fixture_[\"was_home\"].iloc[0]\n",
        "    opponent_team=get_team_name(gameweek_fixture_[\"opponent_team\"].iloc[0])\n",
        "    if is_home:\n",
        "        home_team,away_team=team,opponent_team\n",
        "    else:\n",
        "        home_team,away_team=opponent_team,team\n",
        "\n",
        "    return (\n",
        "        home_team,\n",
        "        away_team,\n",
        "        kickoff_time,\n",
        "        is_home\n",
        "    )\"\"\"\n",
        "\n",
        "\n",
        "gameweek_fixture = pd.read_csv(f\"/content/gdrive/MyDrive/fplpredict/datasets/2024-25/fixtures/GW{gameweek}.csv\")\n",
        "\n",
        "\n",
        "def get_fixture(matchday, name):\n",
        "    # load week's fixture\n",
        "    global gameweek_fixture\n",
        "    gameweek_fixture_ = gameweek_fixture[gameweek_fixture[\"name\"] == name]\n",
        "    return (\n",
        "        gameweek_fixture_[\"home_team\"].iloc[0],\n",
        "        gameweek_fixture_[\"away_team\"].iloc[0],\n",
        "        gameweek_fixture_[\"kickoff_time\"].iloc[0],\n",
        "        gameweek_fixture_[\"is_home\"].iloc[0],\n",
        "    )\n",
        "\n",
        "# week 6 results\n",
        "all_players = []\n",
        "for player_info in player_infos:\n",
        "    try:\n",
        "        #print(all_players)\n",
        "        id = player_info[\"id\"]\n",
        "        print(id)\n",
        "        name = player_info[\"first_name\"] + \" \" + player_info[\"second_name\"]\n",
        "        team_id = player_info[\"team\"]\n",
        "        cost = player_info[\"now_cost\"]\n",
        "        element_type = player_info[\"element_type\"]\n",
        "        my_team = get_team_name(team_id)\n",
        "        position = get_player_position(element_type)\n",
        "        gameweek_result = get_gameweek_result(id, gameweek)\n",
        "        home_team, away_team, kickoff_time, is_home = get_fixture(gameweek, name)\n",
        "        #print(gameweek_result)\n",
        "        gameweek_result[\"id\"] = id\n",
        "        gameweek_result[\"name\"] = name\n",
        "        gameweek_result[\"cost\"] = cost\n",
        "        gameweek_result[\"position\"] = position\n",
        "        gameweek_result[\"home_team\"] = home_team\n",
        "        gameweek_result[\"away_team\"] = away_team\n",
        "        gameweek_result[\"team_x\"] = my_team\n",
        "        gameweek_result[\"opponent_team\"] = get_team_name(\n",
        "            gameweek_result[\"opponent_team\"]\n",
        "        )\n",
        "        all_players.append(gameweek_result)\n",
        "\n",
        "    except IndexError:\n",
        "        continue\n",
        "\n",
        "# get x week result\n",
        "print(all_players)\n",
        "df = pd.DataFrame(all_players)\n",
        "print(df)"
      ]
    },
    {
      "cell_type": "code",
      "source": [
        "df"
      ],
      "metadata": {
        "id": "tiTbcwhQfCK8"
      },
      "execution_count": null,
      "outputs": []
    },
    {
      "cell_type": "code",
      "source": [
        "df[df[\"team_x\"]==\"Man City\"]"
      ],
      "metadata": {
        "id": "BhoWy3rOMlxZ"
      },
      "execution_count": null,
      "outputs": []
    },
    {
      "cell_type": "code",
      "source": [
        "df[df[\"team_x\"]==\"Liverpool\"]"
      ],
      "metadata": {
        "id": "OqFJgdbHhWjT"
      },
      "execution_count": null,
      "outputs": []
    },
    {
      "cell_type": "code",
      "source": [
        "#save to folder\n",
        "df.to_csv(f\"/content/gdrive/MyDrive/fplpredict/datasets/2024-25/results/GW{gameweek}.csv\")"
      ],
      "metadata": {
        "id": "wAWKbRXae-GF"
      },
      "execution_count": 6,
      "outputs": []
    },
    {
      "cell_type": "code",
      "source": [],
      "metadata": {
        "id": "wX4TlHyXNC_j"
      },
      "execution_count": null,
      "outputs": []
    }
  ]
}