{
  "nbformat": 4,
  "nbformat_minor": 0,
  "metadata": {
    "colab": {
      "provenance": [],
      "include_colab_link": true
    },
    "kernelspec": {
      "name": "python3",
      "display_name": "Python 3"
    },
    "language_info": {
      "name": "python"
    }
  },
  "cells": [
    {
      "cell_type": "markdown",
      "metadata": {
        "id": "view-in-github",
        "colab_type": "text"
      },
      "source": [
        "<a href=\"https://colab.research.google.com/github/PeteJoh/fpl-ai/blob/master/weekly_fixtures.ipynb\" target=\"_parent\"><img src=\"https://colab.research.google.com/assets/colab-badge.svg\" alt=\"Open In Colab\"/></a>"
      ]
    },
    {
      "cell_type": "code",
      "source": [
        "#  MAKE SURE TO USE NEXT GW TO BE PLAYED"
      ],
      "metadata": {
        "id": "Ln_OBYy7FhhU"
      },
      "execution_count": 1,
      "outputs": []
    },
    {
      "cell_type": "code",
      "execution_count": null,
      "metadata": {
        "id": "6EXafEw696R0"
      },
      "outputs": [],
      "source": [
        "import requests\n",
        "import pandas as pd\n",
        "\n",
        "from google.colab import drive\n",
        "drive.mount('/content/gdrive')\n",
        "\n",
        "def get_player_fixture_info(id):\n",
        "    player_info = requests.get(\n",
        "        f\"https://fantasy.premierleague.com/api/element-summary/{id}/\"\n",
        "    ).json()\n",
        "    fixture = player_info[\"fixtures\"][0]\n",
        "    home_team = get_team_name(fixture[\"team_h\"])\n",
        "    away_team = get_team_name(fixture[\"team_a\"])\n",
        "    kickoff_time = fixture[\"kickoff_time\"]\n",
        "    is_home = fixture[\"is_home\"]\n",
        "    return home_team, away_team, kickoff_time, is_home\n",
        "\n",
        "\n",
        "def get_gameweek_result(id, gameweek):\n",
        "    \"returns a dictionary of the statistics from the gameweek\"\n",
        "    gameweek_results = requests.get(\n",
        "    f\"https://fantasy.premierleague.com/api/element-summary/{id}/\").json()\n",
        "    return gameweek_results[\"history\"][gameweek-1]\n",
        "\n",
        "def get_team_name(id):\n",
        "    general_information = requests.get(\n",
        "        \"https://fantasy.premierleague.com/api/bootstrap-static/\"\n",
        "    ).json()\n",
        "    teams = general_information[\"teams\"]\n",
        "    for team in teams:\n",
        "        if team[\"id\"] == id:\n",
        "            return team[\"name\"]\n",
        "\n",
        "\n",
        "def get_player_position(element_type):\n",
        "    general_information = requests.get(\n",
        "        \"https://fantasy.premierleague.com/api/bootstrap-static/\"\n",
        "    ).json()\n",
        "    positions = general_information[\"element_types\"]\n",
        "    for position in positions:\n",
        "        if position[\"id\"] == element_type:\n",
        "            return position[\"singular_name_short\"]\n",
        "\n",
        "\n",
        "\n",
        "\n",
        "general_info = requests.get(\n",
        "    f\"https://fantasy.premierleague.com/api/bootstrap-static/\"\n",
        ").json()\n",
        "player_infos = general_info[\"elements\"]\n",
        "gameweek = 11\n",
        "\n",
        "# WEEKLY fixtures fixtures\n",
        "my_teams = []\n",
        "home_teams = []\n",
        "away_teams = []\n",
        "kickoff_times = []\n",
        "is_homes = []\n",
        "positions = []\n",
        "costs = []\n",
        "names = []\n",
        "ids = []\n",
        "general_info = requests.get(\n",
        "    f\"https://fantasy.premierleague.com/api/bootstrap-static/\"\n",
        ").json()\n",
        "player_infos = general_info[\"elements\"]\n",
        "\n",
        "#print(player_infos[0])\n",
        "\n",
        "\n",
        "# week 1\n",
        "for player_info in player_infos:\n",
        "    id = player_info[\"id\"]\n",
        "    print(id)\n",
        "    name = player_info[\"first_name\"] + \" \" + player_info[\"second_name\"]\n",
        "    team_id = player_info[\"team\"]\n",
        "    cost = player_info[\"now_cost\"]\n",
        "    element_type = player_info[\"element_type\"]\n",
        "    my_team = get_team_name(team_id)\n",
        "    position = get_player_position(element_type)\n",
        "    home_team, away_team, kickoff_time, is_home = get_player_fixture_info(id)\n",
        "    ids.append(id)\n",
        "    names.append(name)\n",
        "    costs.append(cost)\n",
        "    positions.append(position)\n",
        "    my_teams.append(my_team)\n",
        "    home_teams.append(home_team)\n",
        "    away_teams.append(away_team)\n",
        "    kickoff_times.append(kickoff_time)\n",
        "    is_homes.append(is_home)\n",
        "\n",
        "\n",
        "df = pd.DataFrame()\n",
        "df[\"id\"] = ids\n",
        "df[\"name\"] = names\n",
        "df[\"cost\"] = costs\n",
        "df[\"position\"] = positions\n",
        "df[\"home_team\"] = home_teams\n",
        "df[\"away_team\"] = away_teams\n",
        "df[\"kickoff_time\"] = kickoff_times\n",
        "df[\"is_home\"] = is_homes\n",
        "df[\"team_x\"] = my_teams\n",
        "#"
      ]
    },
    {
      "cell_type": "code",
      "source": [
        "df"
      ],
      "metadata": {
        "id": "Wm8Y6zlTec8e"
      },
      "execution_count": null,
      "outputs": []
    },
    {
      "cell_type": "code",
      "source": [
        "df[df[\"team_x\"]==\"Wolves\"]"
      ],
      "metadata": {
        "id": "YJtzGvjIShjB"
      },
      "execution_count": null,
      "outputs": []
    },
    {
      "cell_type": "code",
      "source": [
        "# save to folder\n",
        "df.to_csv(f\"/content/gdrive/MyDrive/fplpredict/datasets/2024-25/fixtures/GW{gameweek}.csv\")"
      ],
      "metadata": {
        "id": "B78Pv07fey9p"
      },
      "execution_count": 4,
      "outputs": []
    },
    {
      "cell_type": "code",
      "source": [],
      "metadata": {
        "id": "S-nKBQucSkVe"
      },
      "execution_count": null,
      "outputs": []
    }
  ]
}